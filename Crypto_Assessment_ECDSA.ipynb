{
  "nbformat": 4,
  "nbformat_minor": 0,
  "metadata": {
    "colab": {
      "provenance": [],
      "include_colab_link": true
    },
    "kernelspec": {
      "name": "python3",
      "display_name": "Python 3"
    },
    "language_info": {
      "name": "python"
    }
  },
  "cells": [
    {
      "cell_type": "markdown",
      "metadata": {
        "id": "view-in-github",
        "colab_type": "text"
      },
      "source": [
        "<a href=\"https://colab.research.google.com/github/rabeyatahir/Cryptography-and-Applications/blob/main/Crypto_Assessment_ECDSA.ipynb\" target=\"_parent\"><img src=\"https://colab.research.google.com/assets/colab-badge.svg\" alt=\"Open In Colab\"/></a>"
      ]
    },
    {
      "cell_type": "markdown",
      "source": [
        "#ECDSA Algorithm Implementation\n",
        "This notebook aims to cover the implementation of ECDSA(Elliptic Curve Digital Signature Algorithm). In this regard, the notebook is divided into the following sections:\n",
        "\n",
        "1. Key generation\n",
        "2. Signature assigning against files or folders\n",
        "3. Signature verification for the files and folders"
      ],
      "metadata": {
        "id": "_E-c9ltB-CL4"
      }
    },
    {
      "cell_type": "markdown",
      "source": [
        "# ECDSA Algorithm Steps:\n",
        "\n",
        "1. Key Generation\n",
        "  * Elliptic Curve Key Pair Generation:Generate a new key pair using the P-256 elliptic curve.\n",
        "  * Export Keys: Exporting the private and public keys in PEM format.\n",
        "  * Folder Structure: Creating a folder structure to organize keys based on user and date.\n",
        "  * Storing Keys: Saving the generated keys in the specified folder.\n",
        "\n",
        "2. Signing files for Encryption\n",
        "  * Read Private Key: Read the private key from the specified file.\n",
        "  * Import Private Key: Import the private key into the ECDSA algorithm.\n",
        "  * Hash Calculation:Calculate the SHA-256 hash of the file contents.\n",
        "  * Signing: Sign the hash using the ECDSA algorithm, producing a digital signature.\n",
        "\n",
        "3. Folder Signing\n",
        "  * Iterate Through Files:Iterate through each file in the specified folder.\n",
        "  * Sign Each File: For each file, obtain the digital signature.\n",
        "  * Save Signatures: Save the signatures in separate files with a specific extension.\n",
        "\n",
        "4. Verification for files\n",
        "  * Read Public Key: Read the public key from the specified file.\n",
        "  * Import Public Key: Import the public key into the ECDSA algorithm.\n",
        "  * Hash Calculation: Calculate the SHA-256 hash of the received message.\n",
        "  * Verification: Verify the digital signature using the sender's public key and the calculated hash.\n",
        "\n",
        "5. Folder Signature Verification\n",
        "  * Iterate Through Signature Files: Iterate through each file in the specified folder with a specific extension indicating a signature file.\n",
        "  * Verify Each Signature:For each signature file, verify the corresponding file's signature.\n",
        "\n",
        "These steps illustrate the key processes involved in ECDSA, including key generation, signing, and verification. The algorithm provides a secure way to ensure message integrity and authenticity."
      ],
      "metadata": {
        "id": "pWLobcm9AElz"
      }
    },
    {
      "cell_type": "markdown",
      "source": [
        "## Advantages of using ECDSA to RSA\n",
        "\n",
        "As mentioned [here](https://www.leaderssl.com/articles/484-rsa-ecc-ecdsa-which-algorithm-is-better-to-choose-when-ordering-a-digital-certificate-in-leaderssl), using ECDSA for digital signatures offers several key benefits, including:\n",
        "\n",
        "1. Enhanced security measures.\n",
        "2. Uninterrupted application performance.\n",
        "3. Swift signing and verification processes (40% faster compared to RSA).\n",
        "4. Adherence to evolving application security standards.\n",
        "5. Alignment with governmental information protection regulations.\n",
        "6. Compliance with contemporary industry requirements.\n",
        "\n",
        "Furthermore, certificates employing ECDSA can effectively minimize the overall volume of data requiring authentication, leading to substantial cost savings associated with data storage."
      ],
      "metadata": {
        "id": "v-jMR76B8rwV"
      }
    },
    {
      "cell_type": "markdown",
      "source": [
        "## Installing Dependency Packages"
      ],
      "metadata": {
        "id": "fbSjs5-zD9Gp"
      }
    },
    {
      "cell_type": "code",
      "source": [
        "%pip install pycryptodome==3.19.1"
      ],
      "metadata": {
        "colab": {
          "base_uri": "https://localhost:8080/"
        },
        "id": "HBL1ZVP6ECFx",
        "outputId": "4a76013c-1b2a-46a2-d331-cd1764d8c361"
      },
      "execution_count": null,
      "outputs": [
        {
          "output_type": "stream",
          "name": "stdout",
          "text": [
            "Collecting pycryptodome==3.19.1\n",
            "  Downloading pycryptodome-3.19.1-cp35-abi3-manylinux_2_17_x86_64.manylinux2014_x86_64.whl (2.1 MB)\n",
            "\u001b[2K     \u001b[90m━━━━━━━━━━━━━━━━━━━━━━━━━━━━━━━━━━━━━━━━\u001b[0m \u001b[32m2.1/2.1 MB\u001b[0m \u001b[31m8.5 MB/s\u001b[0m eta \u001b[36m0:00:00\u001b[0m\n",
            "\u001b[?25hInstalling collected packages: pycryptodome\n",
            "Successfully installed pycryptodome-3.19.1\n"
          ]
        }
      ]
    },
    {
      "cell_type": "markdown",
      "source": [
        "##Step 1: Generation of Private/Public Keys for Two Different Users"
      ],
      "metadata": {
        "id": "BytGIrnfEVuv"
      }
    },
    {
      "cell_type": "code",
      "source": [
        "\"\"\"# Mounting google drive to access folders\n",
        "from google.colab import drive\n",
        "drive.mount('/content/drive')\"\"\""
      ],
      "metadata": {
        "id": "wCDzKDOoqr6n"
      },
      "execution_count": null,
      "outputs": []
    },
    {
      "cell_type": "code",
      "source": [
        "\n",
        "# Importing libraries\n",
        "from Crypto.PublicKey import ECC\n",
        "import os\n",
        "import datetime\n",
        "\n",
        "def generate_key_pair(user_name):\n",
        "      \"\"\"\n",
        "        Description:\n",
        "            Generates a digital signature key pair for the specified user and saves it in a designated folder structure.\n",
        "\n",
        "        Args:\n",
        "            user_name (str): The name of the user for which we want to generate the key pair\n",
        "\n",
        "      \"\"\"\n",
        "      # Generating an elliptic curve key pair using P-256 prime curve\n",
        "      key = ECC.generate(curve='P-256')\n",
        "\n",
        "      # Exporting the private and public keys in PEM format\n",
        "      private_key = key.export_key(format='PEM')\n",
        "      public_key = key.public_key().export_key(format='PEM')\n",
        "\n",
        "      # Creating a folder for each user to store public and private keys\n",
        "      user_folder = f\"user_keys/{user_name}\"\n",
        "\n",
        "      # Check if the user_keys folder already exists, then do not raise an error\n",
        "      os.makedirs(user_folder, exist_ok=True)\n",
        "\n",
        "      # Get the current date for key rotation to manage keys\n",
        "      current_date = datetime.date.today()\n",
        "\n",
        "      # Check if keys for the current date already exist\n",
        "      key_folder = os.path.join(user_folder, str(current_date))\n",
        "\n",
        "      # Check if the key_folder already exists, then do not raise an error\n",
        "      os.makedirs(key_folder, exist_ok=True)\n",
        "\n",
        "      # Defination of paths for saving private and public keys\n",
        "      \"\"\"\n",
        "          Here, key_folder represents the directory based on the current date with filenames that include the\n",
        "          name of the user and the type of key (private or public) with the extension .pem.\n",
        "      \"\"\"\n",
        "      private_key_path = os.path.join(key_folder, f\"private_key_{user_name}.pem\")\n",
        "      public_key_path = os.path.join(key_folder, f\"public_key_{user_name}.pem\")\n",
        "\n",
        "      # Saving the new public and private keys as bytes\n",
        "      with open(private_key_path, \"wb\") as f:\n",
        "          f.write(private_key.encode('utf-8'))\n",
        "      with open(public_key_path, \"wb\") as f:\n",
        "          f.write(public_key.encode('utf-8'))\n",
        "      print(\"\\n==================================================================\")\n",
        "      print(f\"New key pair for {user_name} generated and saved in {key_folder}.\")\n",
        "      print(\"\\n==================================================================\")\n",
        "\n",
        "if __name__ == \"__main__\":\n",
        "\n",
        "  # Taking input usernames\n",
        "  user1 = input(\"Enter first username for which you want to generate public and private keys: \")\n",
        "  user2 = input(\"Enter second username for which you want to generate public and private keys: \")\n",
        "\n",
        "  # Calling generate_key_pair to generate keys for both users against specified date\n",
        "  generate_key_pair(user1)\n",
        "  generate_key_pair(user2)"
      ],
      "metadata": {
        "id": "fWi3jKS4Eefj",
        "colab": {
          "base_uri": "https://localhost:8080/"
        },
        "outputId": "6d20a4e5-07bf-425f-c302-0163013354d0"
      },
      "execution_count": null,
      "outputs": [
        {
          "output_type": "stream",
          "name": "stdout",
          "text": [
            "Enter first username for which you want to generate public and private keys: Rabeya\n",
            "Enter second username for which you want to generate public and private keys: Tahir\n",
            "\n",
            "==================================================================\n",
            "New key pair for Rabeya generated and saved in user_keys/Rabeya/2024-01-17.\n",
            "\n",
            "==================================================================\n",
            "\n",
            "==================================================================\n",
            "New key pair for Tahir generated and saved in user_keys/Tahir/2024-01-17.\n",
            "\n",
            "==================================================================\n"
          ]
        }
      ]
    },
    {
      "cell_type": "markdown",
      "source": [
        "##Step 2: Assigning Digital Signature for Encryption"
      ],
      "metadata": {
        "id": "MOVk1OfSEpZB"
      }
    },
    {
      "cell_type": "code",
      "source": [
        "from Crypto.PublicKey import ECC\n",
        "from Crypto.Signature import DSS\n",
        "from Crypto.Hash import SHA256\n",
        "import os\n",
        "\n",
        "def sign_file(file_path, private_key_file):\n",
        "    \"\"\"\n",
        "    Description:\n",
        "        Sign the contents of a file using ECDSA.\n",
        "\n",
        "    Args:\n",
        "        file_path (str): Path to the file to be signed, here we can pass .txt, .pdf , .docx files\n",
        "        private_key_file (str): String representing the private key file path.\n",
        "\n",
        "    Returns:\n",
        "       signature (bytes): Returns digital signature in bytes.\n",
        "    \"\"\"\n",
        "    # Reading the contents of the private_key_file\n",
        "    with open(private_key_file, \"r\") as f:\n",
        "        private_key = f.read()\n",
        "\n",
        "    # Importing the private key\n",
        "    key = ECC.import_key(private_key)\n",
        "\n",
        "    # Creating a SHA-256 hash object and update it with the contents\n",
        "    h = SHA256.new()\n",
        "\n",
        "    \"\"\"\n",
        "        Updating SHA-256 hash object (h) with the contents of a file specified by file_path in chunks\n",
        "    \"\"\"\n",
        "    # Reading in binary mode\n",
        "    with open(file_path, \"rb\") as f:\n",
        "\n",
        "        # Iterating through the file in chunks of 8192 bytes\n",
        "        while chunk := f.read(8192):\n",
        "\n",
        "            # Updating the SHA-256 hash object with the current chunk of data\n",
        "            h.update(chunk)\n",
        "\n",
        "    # Creating a DSS signer object and sign the hash\n",
        "    \"\"\"\n",
        "      Here,'fips-186-3' specifies the version of the Digital Signature Standard (DSS) and\n",
        "      'der' specifies the encoding format for the signature Distinguished Encoding Rules (DER).\n",
        "    \"\"\"\n",
        "    signer = DSS.new(key, 'fips-186-3', 'der')\n",
        "    signature = signer.sign(h)\n",
        "    return signature\n",
        "\n",
        "def sign_files_in_folder(folder_path, private_key_file):\n",
        "    \"\"\"\n",
        "    Description:\n",
        "        Sign all files in a folder using ECDSA.\n",
        "\n",
        "    Args:\n",
        "        folder_path (str): Path to the folder containing files to be signed.\n",
        "        private_key_file (str): String representing the private key file path.\n",
        "    \"\"\"\n",
        "    # Iterate through files in the specified folder\n",
        "    for filename in os.listdir(folder_path):\n",
        "        file_path = os.path.join(folder_path, filename)\n",
        "\n",
        "        # Checking if the item is a file\n",
        "        if os.path.isfile(file_path):\n",
        "\n",
        "            # Signing the file and save the signature file with specified extension\n",
        "            signature = sign_file(file_path, private_key_file)\n",
        "            signature_file_path = file_path + \".signature\"\n",
        "\n",
        "            with open(signature_file_path, \"wb\") as f:\n",
        "                f.write(signature)\n",
        "            print(f\"Signature for {filename} saved in {signature_file_path}\")\n",
        "\n",
        "if __name__ == \"__main__\":\n",
        "\n",
        "    # Taking user input for file or folder path, private key, and user name\n",
        "    input_path = input(\"Enter file or folder path: \")\n",
        "    private_key_file = input(\"Enter private key file path: \")\n",
        "\n",
        "    # Check if input_path is a directory folder\n",
        "    if os.path.isdir(input_path):\n",
        "\n",
        "        # Sign all files in the folder and add .signature at the end of each file\n",
        "        sign_files_in_folder(input_path, private_key_file)\n",
        "\n",
        "    # Check if input_path is a file\n",
        "    elif os.path.isfile(input_path):\n",
        "\n",
        "        # Sign the specified file\n",
        "        signature = sign_file(input_path, private_key_file)\n",
        "        signature_file_path = input_path + \".signature\"\n",
        "\n",
        "        # Writing signature in a file\n",
        "        with open(signature_file_path, \"wb\") as f:\n",
        "            f.write(signature)\n",
        "        print(f\"Signature for {input_path} saved in {signature_file_path}\")\n",
        "    else:\n",
        "        print(f\"Error: {input_path} is not a valid file or folder.\")\n"
      ],
      "metadata": {
        "colab": {
          "base_uri": "https://localhost:8080/"
        },
        "id": "WYErDH3e1hkP",
        "outputId": "ddd7cb51-21bb-4225-b1fc-23328e12875a"
      },
      "execution_count": null,
      "outputs": [
        {
          "output_type": "stream",
          "name": "stdout",
          "text": [
            "Enter file or folder path: /content/test.pdf\n",
            "Enter private key file path: /content/user_keys/Rabeya/2024-01-17/private_key_Rabeya.pem\n",
            "Signature for /content/test.pdf saved in /content/test.pdf.signature\n"
          ]
        }
      ]
    },
    {
      "cell_type": "markdown",
      "source": [
        "##Step 3: Verification of digital Signature"
      ],
      "metadata": {
        "id": "r5ZsLXYnE3Di"
      }
    },
    {
      "cell_type": "code",
      "source": [
        "from Crypto.PublicKey import ECC\n",
        "from Crypto.Signature import DSS\n",
        "from Crypto.Hash import SHA256\n",
        "import os\n",
        "\n",
        "def verify_signature(file_path, signature, public_key_file):\n",
        "    \"\"\"\n",
        "    Decription:\n",
        "      Verifying the digital signature of a file using ECDSA to decrypt a file with contents\n",
        "\n",
        "    Args:\n",
        "        file_path (str): Path to the file to be verified.\n",
        "        signature (bytes): Digital signature in bytes.\n",
        "        public_key_file (str): Path to the public key file.\n",
        "\n",
        "    Returns:\n",
        "        bool: True if the signature is valid, False otherwise.\n",
        "    \"\"\"\n",
        "    # Read the contents of the public_key_file\n",
        "    with open(public_key_file, \"rb\") as f:\n",
        "        public_key = f.read()\n",
        "\n",
        "    # Importing the public key\n",
        "    key = ECC.import_key(public_key)\n",
        "\n",
        "    # Creating a SHA-256 hash object and update it with the contents\n",
        "    h = SHA256.new()\n",
        "\n",
        "    # Reading in binary mode\n",
        "    with open(file_path, \"rb\") as f:\n",
        "        # Iterating through the file in chunks of 8192 bytes\n",
        "        while chunk := f.read(8192):\n",
        "            # Updating the SHA-256 hash object with the current chunk of data\n",
        "            h.update(chunk)\n",
        "\n",
        "    # Creating a DSS verifier object and verify the hash against the signature\n",
        "    verifier = DSS.new(key, 'fips-186-3', 'der')\n",
        "\n",
        "    \"\"\"\n",
        "      Here, it verifies whether the provided digital signature (signature) corresponds\n",
        "      to the hash value (h) of the data that was signed. If the verification is successful, it returns True\n",
        "      else False\n",
        "    \"\"\"\n",
        "    try:\n",
        "      # Verification of the signature using the Digital Signature Standard (DSS) verifier\n",
        "        verifier.verify(h, signature)\n",
        "        return True\n",
        "\n",
        "     # If verification fails, catch the exception and return False\n",
        "    except ValueError:\n",
        "        return False\n",
        "\n",
        "def verify_signatures_in_folder(folder_path, public_key_file):\n",
        "    \"\"\"\n",
        "    Description:\n",
        "        Verification of digital signatures of files in a folder using ECDSA.\n",
        "\n",
        "    Args:\n",
        "        folder_path (str): Path to the folder containing files with signatures.\n",
        "        public_key_file (str): Path to the public key file.\n",
        "    \"\"\"\n",
        "    # Iterate through files in the specified folder\n",
        "    for filename in os.listdir(folder_path):\n",
        "        file_path = os.path.join(folder_path, filename)\n",
        "\n",
        "        # Checking if the item is a file and ends with \".signature\"\n",
        "        if os.path.isfile(file_path) and filename.endswith(\".signature\"):\n",
        "\n",
        "            # Construct the path to the signature file\n",
        "            signature_file_path = file_path\n",
        "\n",
        "            # Remove \".signature\" from the filename to get the original file path\n",
        "            file_path = file_path[:-10]\n",
        "\n",
        "            # Read the contents of the signature file\n",
        "            with open(signature_file_path, \"rb\") as f:\n",
        "                signature = f.read()\n",
        "\n",
        "            # Verify the signature validity for the original file\n",
        "            is_valid = verify_signature(file_path, signature, public_key_file)\n",
        "            if is_valid:\n",
        "                print(f\"Signature for {filename} is valid.\")\n",
        "            else:\n",
        "                print(f\"Signature for {filename} is not valid.\")\n",
        "\n",
        "if __name__ == \"__main__\":\n",
        "\n",
        "    # Taking user input for file or folder path, public key, and user name\n",
        "    input_path = input(\"Enter file or folder path: \")\n",
        "    public_key_file = input(\"Enter public key file path: \")  # Ensure this input is a string\n",
        "\n",
        "    # Check if input_path is a directory folder\n",
        "    if os.path.isdir(input_path):\n",
        "        # Verify signatures of all files in the folder\n",
        "        verify_signatures_in_folder(input_path, public_key_file)\n",
        "\n",
        "    # Check if input_path is a file\n",
        "    elif os.path.isfile(input_path):\n",
        "        # Construct the path to the signature file\n",
        "        signature_file_path = input_path + \".signature\"\n",
        "\n",
        "        # Check if the signature file exists\n",
        "        if os.path.exists(signature_file_path):\n",
        "            # Read the contents of the signature file\n",
        "            with open(signature_file_path, \"rb\") as f:\n",
        "                signature = f.read()\n",
        "\n",
        "            # Verify the signature for the specified file\n",
        "            is_valid = verify_signature(input_path, signature, public_key_file)\n",
        "            if is_valid:\n",
        "                print(f\"Signature for {input_path} is valid.\")\n",
        "            else:\n",
        "                print(f\"Signature for {input_path} is not valid.\")\n",
        "        else:\n",
        "            print(f\"Error: Signature file not found for {input_path}.\")\n",
        "    else:\n",
        "        print(f\"Error: {input_path} is not a valid file or folder.\")\n"
      ],
      "metadata": {
        "colab": {
          "base_uri": "https://localhost:8080/"
        },
        "id": "7AXOf5tB4PB2",
        "outputId": "068d9647-59df-4d12-be64-a03d13d41b57"
      },
      "execution_count": null,
      "outputs": [
        {
          "output_type": "stream",
          "name": "stdout",
          "text": [
            "Enter file or folder path: /content/test.pdf.signature\n",
            "Enter public key file path: /content/user_keys/Rabeya/2024-01-17/public_key_Rabeya.pem\n",
            "Error: Signature file not found for /content/test.pdf.signature.\n"
          ]
        }
      ]
    },
    {
      "cell_type": "markdown",
      "source": [
        "# Summarized Findings"
      ],
      "metadata": {
        "id": "BMln5gZy6p0k"
      }
    },
    {
      "cell_type": "markdown",
      "source": [
        "Following is the overall ECDSA workflow:\n",
        "\n",
        "1. Key Generation: Generate a key pair consisting of a private key and a corresponding public key.\n",
        "\n",
        "2. Signature Generation for Encryption:\n",
        "\n",
        "  * Choosing a file with message to be signed.\n",
        "  * Applying hashing to the file using a secure hash function such as SHA-256.\n",
        "  * Applying signature to the hash value with the user's private key to generate a digital signature.\n",
        "\n",
        "3. Signature Verification for Decryption:\n",
        "\n",
        "  * Applying hashing to the original file using the same hash function.\n",
        "  * Verifying the signature using the hash value, the received signature, and the sender's public key.\n",
        "  \n",
        "4. Results: Displaying the result of the signature verification.\n",
        "\n"
      ],
      "metadata": {
        "id": "sKiQPzPW6szc"
      }
    }
  ]
}